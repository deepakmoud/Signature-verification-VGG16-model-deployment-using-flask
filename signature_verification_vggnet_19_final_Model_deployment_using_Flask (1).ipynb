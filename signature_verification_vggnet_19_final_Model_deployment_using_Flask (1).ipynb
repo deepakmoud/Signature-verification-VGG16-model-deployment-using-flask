{
  "nbformat": 4,
  "nbformat_minor": 0,
  "metadata": {
    "kernelspec": {
      "display_name": "Python 3",
      "language": "python",
      "name": "python3"
    },
    "language_info": {
      "codemirror_mode": {
        "name": "ipython",
        "version": 3
      },
      "file_extension": ".py",
      "mimetype": "text/x-python",
      "name": "python",
      "nbconvert_exporter": "python",
      "pygments_lexer": "ipython3",
      "version": "3.7.3"
    },
    "colab": {
      "name": "  signature verification vggnet 19 final Model deployment  using Flask.ipynb",
      "provenance": [],
      "collapsed_sections": []
    },
    "accelerator": "GPU"
  },
  "cells": [
    {
      "cell_type": "code",
      "metadata": {
        "id": "7VX9U2sdL_6y"
      },
      "source": [
        "# Importing the Keras libraries and packages\n",
        "from keras.layers import Input, Flatten, Dense\n",
        "from keras.models import Sequential\n",
        "from keras.layers import Convolution2D\n",
        "from keras.layers import MaxPooling2D\n",
        "from keras.preprocessing import image\n",
        "import numpy as np\n",
        "import pandas as pd\n",
        "from keras.preprocessing.image import ImageDataGenerator\n",
        "from keras.models import Model\n",
        "from keras.layers import Input, Flatten, Dense\n",
        "from keras.callbacks import Callback, ModelCheckpoint\n",
        "from keras.applications.vgg16 import VGG16\n",
        "from keras.applications.vgg16 import preprocess_input\n",
        "from keras.applications.vgg19 import VGG19\n",
        "import warnings \n",
        "warnings.filterwarnings('ignore')\n",
        "img_width, img_height = 128, 128\n",
        "\n"
      ],
      "execution_count": null,
      "outputs": []
    },
    {
      "cell_type": "code",
      "metadata": {
        "id": "N7EgTgOwL_68",
        "colab": {
          "base_uri": "https://localhost:8080/",
          "height": 68
        },
        "outputId": "bb7e3c53-fca4-4248-a587-6d999fc11d75"
      },
      "source": [
        "#Load the pretrained Network\n",
        "vgg19_model = VGG19(include_top=False, weights='imagenet', input_tensor=None, input_shape=(img_height,img_width,3), pooling=None, classes=1000)\n",
        "print(\"pretrained Network is loaded\")"
      ],
      "execution_count": null,
      "outputs": [
        {
          "output_type": "stream",
          "text": [
            "Downloading data from https://github.com/fchollet/deep-learning-models/releases/download/v0.1/vgg19_weights_tf_dim_ordering_tf_kernels_notop.h5\n",
            "80142336/80134624 [==============================] - 3s 0us/step\n",
            "pretrained Network is loaded\n"
          ],
          "name": "stdout"
        }
      ]
    },
    {
      "cell_type": "code",
      "metadata": {
        "id": "zI6stXzxVEW3",
        "colab": {
          "base_uri": "https://localhost:8080/",
          "height": 153
        },
        "outputId": "a9880a3a-badc-4afb-922b-b3f09f3632ef"
      },
      "source": [
        "pip install -U keras"
      ],
      "execution_count": null,
      "outputs": [
        {
          "output_type": "stream",
          "text": [
            "Requirement already up-to-date: keras in /usr/local/lib/python3.6/dist-packages (2.3.1)\n",
            "Requirement already satisfied, skipping upgrade: h5py in /usr/local/lib/python3.6/dist-packages (from keras) (2.10.0)\n",
            "Requirement already satisfied, skipping upgrade: numpy>=1.9.1 in /usr/local/lib/python3.6/dist-packages (from keras) (1.18.3)\n",
            "Requirement already satisfied, skipping upgrade: six>=1.9.0 in /usr/local/lib/python3.6/dist-packages (from keras) (1.12.0)\n",
            "Requirement already satisfied, skipping upgrade: keras-preprocessing>=1.0.5 in /usr/local/lib/python3.6/dist-packages (from keras) (1.1.0)\n",
            "Requirement already satisfied, skipping upgrade: keras-applications>=1.0.6 in /usr/local/lib/python3.6/dist-packages (from keras) (1.0.8)\n",
            "Requirement already satisfied, skipping upgrade: pyyaml in /usr/local/lib/python3.6/dist-packages (from keras) (3.13)\n",
            "Requirement already satisfied, skipping upgrade: scipy>=0.14 in /usr/local/lib/python3.6/dist-packages (from keras) (1.4.1)\n"
          ],
          "name": "stdout"
        }
      ]
    },
    {
      "cell_type": "code",
      "metadata": {
        "id": "uosl74kFL_7D",
        "colab": {
          "base_uri": "https://localhost:8080/",
          "height": 34
        },
        "outputId": "a5e6564d-7e51-489a-af3a-beaf510073a2"
      },
      "source": [
        "# Freeze the layers\n",
        "for layer in vgg19_model.layers:\n",
        "    layer.trainable = False\n",
        "print(\"Pretrained layers are freezed\")\n",
        "    "
      ],
      "execution_count": null,
      "outputs": [
        {
          "output_type": "stream",
          "text": [
            "Pretrained layers are freezed\n"
          ],
          "name": "stdout"
        }
      ]
    },
    {
      "cell_type": "code",
      "metadata": {
        "id": "BD5xdmxmL_7J",
        "colab": {
          "base_uri": "https://localhost:8080/",
          "height": 34
        },
        "outputId": "9e3818b8-c5fe-45de-9194-0da0f94e7488"
      },
      "source": [
        "model = Sequential()\n",
        "model.add(vgg19_model)\n",
        "#add fully connected layer:\n",
        "input_layer=model.add(Flatten())\n",
        "hidden_layer=model.add(Dense(128, activation='relu', name='hidden_layer'))\n",
        "classification_layer=model.add(Dense(64, activation='relu', name='classification_layer'))\n",
        "output_layer=model.add(Dense(1, activation='sigmoid', name='output_layer')) \n",
        "print(\"All layers top of pretrained layers are developed\")"
      ],
      "execution_count": null,
      "outputs": [
        {
          "output_type": "stream",
          "text": [
            "All layers top of pretrained layers are developed\n"
          ],
          "name": "stdout"
        }
      ]
    },
    {
      "cell_type": "code",
      "metadata": {
        "id": "DtMH9DEhL_7Q",
        "colab": {
          "base_uri": "https://localhost:8080/",
          "height": 34
        },
        "outputId": "97bb6d65-903c-4294-8be2-32490d2ea427"
      },
      "source": [
        "train_data_dir ='/content/drive/My Drive/Dataset1/training_set'\n",
        "val_data_dir ='/content/drive/My Drive/Dataset1/testing_set'\n",
        "nb_epochs = 35\n",
        "print(\"Input parameters are assigned\")"
      ],
      "execution_count": null,
      "outputs": [
        {
          "output_type": "stream",
          "text": [
            "Input parameters are assigned\n"
          ],
          "name": "stdout"
        }
      ]
    },
    {
      "cell_type": "code",
      "metadata": {
        "id": "-Olk9_b4L_7V",
        "colab": {
          "base_uri": "https://localhost:8080/",
          "height": 34
        },
        "outputId": "a2f5e7aa-6bf1-4b25-a966-9924303370aa"
      },
      "source": [
        "model.compile(loss='binary_crossentropy', optimizer='adam', metrics=['accuracy'])\n",
        "print(\"Model is Complied\")"
      ],
      "execution_count": null,
      "outputs": [
        {
          "output_type": "stream",
          "text": [
            "Model is Complied\n"
          ],
          "name": "stdout"
        }
      ]
    },
    {
      "cell_type": "code",
      "metadata": {
        "id": "noo6mamOTfZa",
        "colab": {
          "base_uri": "https://localhost:8080/"
        },
        "outputId": "f5affd39-820c-40fc-cd72-1bb6a57685b8"
      },
      "source": [
        "from google.colab import drive\n",
        "drive.mount('/content/drive')"
      ],
      "execution_count": null,
      "outputs": [
        {
          "output_type": "stream",
          "text": [
            "Drive already mounted at /content/drive; to attempt to forcibly remount, call drive.mount(\"/content/drive\", force_remount=True).\n"
          ],
          "name": "stdout"
        }
      ]
    },
    {
      "cell_type": "code",
      "metadata": {
        "id": "Sz3f4zudL_7c",
        "colab": {
          "base_uri": "https://localhost:8080/",
          "height": 51
        },
        "outputId": "3074ed08-b5bf-4eda-e1bc-6ca9264ce650"
      },
      "source": [
        "train_datagen = ImageDataGenerator(rescale=1./255, shear_range=0.2, zoom_range=0.2, horizontal_flip=True)\n",
        "test_datagen = ImageDataGenerator(rescale=1./255)\n",
        "\n",
        "train_generator = train_datagen.flow_from_directory(train_data_dir, target_size=(img_width, img_height), \n",
        "                                                    batch_size=32,shuffle=False, class_mode='binary')\n",
        "validation_generator = test_datagen.flow_from_directory(val_data_dir, target_size=(img_width, img_height), \n",
        "                                                    batch_size=32,shuffle=False,class_mode='binary')\n"
      ],
      "execution_count": null,
      "outputs": [
        {
          "output_type": "stream",
          "text": [
            "Found 2112 images belonging to 2 classes.\n",
            "Found 544 images belonging to 2 classes.\n"
          ],
          "name": "stdout"
        }
      ]
    },
    {
      "cell_type": "code",
      "metadata": {
        "id": "J1RBb4ExiBa5",
        "colab": {
          "base_uri": "https://localhost:8080/",
          "height": 187
        },
        "outputId": "89901f97-dbc0-4a95-9c50-ea8ba42da64f"
      },
      "source": [
        "import os\n",
        "from os import listdir\n",
        "from numpy import asarray\n",
        "from numpy import save\n",
        "from keras.preprocessing.image import load_img\n",
        "from keras.preprocessing.image import img_to_array\n",
        "folder = '/content/drive/My Drive/Dataset1/training_set/'\n",
        "photos, labels = list(), list()\n",
        "for r, d, f in os.walk(folder):\n",
        "    for file in f:\n",
        "        if \".png\" in file:\n",
        "          if(os.path.join(r, file)=='/content/drive/My Drive/Dataset1/training_set/genuine/{}'.format(file)):\n",
        "            output=1\n",
        "          elif(os.path.join(r, file)=='/content/drive/My Drive/Dataset1/training_set/forged/{}'.format(file)):\n",
        "            output=0\n",
        "        labels.append(output)\n",
        "labels_train=np.array(labels)\n",
        "print(os.path.join(r, file))\n",
        "print(labels_train.shape)\n",
        "labels_train=np.expand_dims(labels, axis=1)\n",
        "print(labels_train)\n",
        "print(labels_train.shape)"
      ],
      "execution_count": null,
      "outputs": [
        {
          "output_type": "stream",
          "text": [
            "/content/drive/My Drive/Dataset1/training_set/genuine/006_01.PNG\n",
            "(2117,)\n",
            "[[0]\n",
            " [0]\n",
            " [0]\n",
            " ...\n",
            " [1]\n",
            " [1]\n",
            " [1]]\n",
            "(2117, 1)\n"
          ],
          "name": "stdout"
        }
      ]
    },
    {
      "cell_type": "code",
      "metadata": {
        "id": "k8UdZCwclWk9",
        "colab": {
          "base_uri": "https://localhost:8080/",
          "height": 1000
        },
        "outputId": "71d84b1e-cfb1-44f5-f9fc-82a4826f6c4f"
      },
      "source": [
        "import os\n",
        "from os import listdir\n",
        "from numpy import asarray\n",
        "from numpy import save\n",
        "from keras.preprocessing.image import load_img\n",
        "from keras.preprocessing.image import img_to_array\n",
        "folder = '/content/drive/My Drive/Dataset1/testing_set/'\n",
        "photos, labels = list(), list()\n",
        "for r, d, f in os.walk(folder):\n",
        "    for file in f:\n",
        "        if \".png\" in file:\n",
        "          if(os.path.join(r, file)=='/content/drive/My Drive/Dataset1/testing_set/genuine/{}'.format(file)):\n",
        "            output=1\n",
        "          elif(os.path.join(r, file)=='/content/drive/My Drive/Dataset1/testing_set/forged/{}'.format(file)):\n",
        "            output=0\n",
        "        labels.append(output)\n",
        "labels_test=np.array(labels)\n",
        "print(os.path.join(r, file))\n",
        "print(labels_test.shape)\n",
        "labels_test=np.expand_dims(labels_test, axis=1)\n",
        "print(labels_test)\n",
        "print(labels_test.shape)"
      ],
      "execution_count": null,
      "outputs": [
        {
          "output_type": "stream",
          "text": [
            "/content/drive/My Drive/Dataset1/testing_set/genuine/NFI-03001030.PNG\n",
            "(563,)\n",
            "[[1]\n",
            " [1]\n",
            " [1]\n",
            " [1]\n",
            " [1]\n",
            " [1]\n",
            " [1]\n",
            " [1]\n",
            " [1]\n",
            " [1]\n",
            " [1]\n",
            " [1]\n",
            " [1]\n",
            " [1]\n",
            " [1]\n",
            " [1]\n",
            " [1]\n",
            " [1]\n",
            " [1]\n",
            " [1]\n",
            " [1]\n",
            " [1]\n",
            " [1]\n",
            " [1]\n",
            " [1]\n",
            " [1]\n",
            " [1]\n",
            " [1]\n",
            " [1]\n",
            " [1]\n",
            " [1]\n",
            " [1]\n",
            " [1]\n",
            " [1]\n",
            " [1]\n",
            " [1]\n",
            " [1]\n",
            " [1]\n",
            " [1]\n",
            " [1]\n",
            " [1]\n",
            " [1]\n",
            " [1]\n",
            " [1]\n",
            " [1]\n",
            " [1]\n",
            " [1]\n",
            " [1]\n",
            " [1]\n",
            " [1]\n",
            " [1]\n",
            " [1]\n",
            " [1]\n",
            " [1]\n",
            " [1]\n",
            " [1]\n",
            " [1]\n",
            " [1]\n",
            " [1]\n",
            " [1]\n",
            " [1]\n",
            " [1]\n",
            " [1]\n",
            " [1]\n",
            " [1]\n",
            " [1]\n",
            " [1]\n",
            " [1]\n",
            " [1]\n",
            " [1]\n",
            " [1]\n",
            " [1]\n",
            " [1]\n",
            " [1]\n",
            " [1]\n",
            " [1]\n",
            " [1]\n",
            " [1]\n",
            " [1]\n",
            " [1]\n",
            " [1]\n",
            " [1]\n",
            " [1]\n",
            " [1]\n",
            " [1]\n",
            " [1]\n",
            " [1]\n",
            " [1]\n",
            " [1]\n",
            " [1]\n",
            " [1]\n",
            " [1]\n",
            " [1]\n",
            " [1]\n",
            " [1]\n",
            " [1]\n",
            " [1]\n",
            " [1]\n",
            " [1]\n",
            " [1]\n",
            " [1]\n",
            " [1]\n",
            " [1]\n",
            " [1]\n",
            " [1]\n",
            " [1]\n",
            " [1]\n",
            " [1]\n",
            " [1]\n",
            " [1]\n",
            " [1]\n",
            " [1]\n",
            " [1]\n",
            " [1]\n",
            " [1]\n",
            " [1]\n",
            " [1]\n",
            " [1]\n",
            " [1]\n",
            " [1]\n",
            " [1]\n",
            " [1]\n",
            " [1]\n",
            " [1]\n",
            " [1]\n",
            " [1]\n",
            " [1]\n",
            " [1]\n",
            " [1]\n",
            " [1]\n",
            " [1]\n",
            " [1]\n",
            " [1]\n",
            " [1]\n",
            " [1]\n",
            " [1]\n",
            " [1]\n",
            " [1]\n",
            " [1]\n",
            " [1]\n",
            " [1]\n",
            " [1]\n",
            " [1]\n",
            " [1]\n",
            " [1]\n",
            " [1]\n",
            " [1]\n",
            " [1]\n",
            " [1]\n",
            " [1]\n",
            " [1]\n",
            " [1]\n",
            " [1]\n",
            " [1]\n",
            " [1]\n",
            " [1]\n",
            " [1]\n",
            " [1]\n",
            " [1]\n",
            " [1]\n",
            " [1]\n",
            " [1]\n",
            " [1]\n",
            " [1]\n",
            " [1]\n",
            " [1]\n",
            " [1]\n",
            " [1]\n",
            " [1]\n",
            " [1]\n",
            " [1]\n",
            " [1]\n",
            " [1]\n",
            " [1]\n",
            " [1]\n",
            " [1]\n",
            " [1]\n",
            " [1]\n",
            " [1]\n",
            " [1]\n",
            " [1]\n",
            " [1]\n",
            " [1]\n",
            " [1]\n",
            " [1]\n",
            " [1]\n",
            " [1]\n",
            " [1]\n",
            " [1]\n",
            " [1]\n",
            " [1]\n",
            " [1]\n",
            " [1]\n",
            " [1]\n",
            " [1]\n",
            " [1]\n",
            " [1]\n",
            " [1]\n",
            " [1]\n",
            " [1]\n",
            " [1]\n",
            " [1]\n",
            " [1]\n",
            " [1]\n",
            " [1]\n",
            " [1]\n",
            " [1]\n",
            " [1]\n",
            " [1]\n",
            " [1]\n",
            " [1]\n",
            " [1]\n",
            " [1]\n",
            " [1]\n",
            " [1]\n",
            " [1]\n",
            " [1]\n",
            " [1]\n",
            " [1]\n",
            " [1]\n",
            " [1]\n",
            " [1]\n",
            " [1]\n",
            " [1]\n",
            " [1]\n",
            " [1]\n",
            " [1]\n",
            " [1]\n",
            " [1]\n",
            " [1]\n",
            " [1]\n",
            " [1]\n",
            " [1]\n",
            " [1]\n",
            " [1]\n",
            " [1]\n",
            " [1]\n",
            " [1]\n",
            " [1]\n",
            " [1]\n",
            " [1]\n",
            " [1]\n",
            " [1]\n",
            " [1]\n",
            " [1]\n",
            " [1]\n",
            " [1]\n",
            " [1]\n",
            " [0]\n",
            " [0]\n",
            " [0]\n",
            " [0]\n",
            " [0]\n",
            " [0]\n",
            " [0]\n",
            " [0]\n",
            " [0]\n",
            " [0]\n",
            " [0]\n",
            " [0]\n",
            " [0]\n",
            " [0]\n",
            " [0]\n",
            " [0]\n",
            " [0]\n",
            " [0]\n",
            " [0]\n",
            " [0]\n",
            " [0]\n",
            " [0]\n",
            " [0]\n",
            " [0]\n",
            " [0]\n",
            " [0]\n",
            " [0]\n",
            " [0]\n",
            " [0]\n",
            " [0]\n",
            " [0]\n",
            " [0]\n",
            " [1]\n",
            " [1]\n",
            " [1]\n",
            " [1]\n",
            " [1]\n",
            " [1]\n",
            " [1]\n",
            " [1]\n",
            " [1]\n",
            " [1]\n",
            " [1]\n",
            " [1]\n",
            " [1]\n",
            " [1]\n",
            " [1]\n",
            " [1]\n",
            " [1]\n",
            " [1]\n",
            " [1]\n",
            " [1]\n",
            " [1]\n",
            " [1]\n",
            " [1]\n",
            " [1]\n",
            " [1]\n",
            " [1]\n",
            " [1]\n",
            " [1]\n",
            " [1]\n",
            " [1]\n",
            " [1]\n",
            " [1]\n",
            " [1]\n",
            " [1]\n",
            " [1]\n",
            " [1]\n",
            " [1]\n",
            " [1]\n",
            " [1]\n",
            " [1]\n",
            " [1]\n",
            " [1]\n",
            " [1]\n",
            " [1]\n",
            " [1]\n",
            " [1]\n",
            " [1]\n",
            " [1]\n",
            " [1]\n",
            " [1]\n",
            " [1]\n",
            " [1]\n",
            " [1]\n",
            " [1]\n",
            " [1]\n",
            " [1]\n",
            " [1]\n",
            " [1]\n",
            " [1]\n",
            " [1]\n",
            " [1]\n",
            " [1]\n",
            " [1]\n",
            " [1]\n",
            " [1]\n",
            " [1]\n",
            " [1]\n",
            " [1]\n",
            " [1]\n",
            " [1]\n",
            " [1]\n",
            " [1]\n",
            " [1]\n",
            " [1]\n",
            " [1]\n",
            " [1]\n",
            " [1]\n",
            " [1]\n",
            " [1]\n",
            " [1]\n",
            " [1]\n",
            " [1]\n",
            " [1]\n",
            " [1]\n",
            " [1]\n",
            " [1]\n",
            " [1]\n",
            " [1]\n",
            " [1]\n",
            " [1]\n",
            " [1]\n",
            " [1]\n",
            " [1]\n",
            " [1]\n",
            " [1]\n",
            " [1]\n",
            " [1]\n",
            " [1]\n",
            " [1]\n",
            " [1]\n",
            " [1]\n",
            " [1]\n",
            " [1]\n",
            " [1]\n",
            " [1]\n",
            " [1]\n",
            " [1]\n",
            " [1]\n",
            " [1]\n",
            " [1]\n",
            " [1]\n",
            " [1]\n",
            " [1]\n",
            " [1]\n",
            " [1]\n",
            " [1]\n",
            " [1]\n",
            " [1]\n",
            " [1]\n",
            " [1]\n",
            " [1]\n",
            " [1]\n",
            " [1]\n",
            " [1]\n",
            " [1]\n",
            " [1]\n",
            " [1]\n",
            " [1]\n",
            " [1]\n",
            " [1]\n",
            " [1]\n",
            " [1]\n",
            " [1]\n",
            " [1]\n",
            " [1]\n",
            " [1]\n",
            " [1]\n",
            " [1]\n",
            " [1]\n",
            " [1]\n",
            " [1]\n",
            " [1]\n",
            " [1]\n",
            " [1]\n",
            " [1]\n",
            " [1]\n",
            " [1]\n",
            " [1]\n",
            " [1]\n",
            " [1]\n",
            " [1]\n",
            " [1]\n",
            " [1]\n",
            " [1]\n",
            " [1]\n",
            " [1]\n",
            " [1]\n",
            " [1]\n",
            " [1]\n",
            " [1]\n",
            " [1]\n",
            " [1]\n",
            " [1]\n",
            " [1]\n",
            " [1]\n",
            " [1]\n",
            " [1]\n",
            " [1]\n",
            " [1]\n",
            " [1]\n",
            " [1]\n",
            " [1]\n",
            " [1]\n",
            " [1]\n",
            " [1]\n",
            " [1]\n",
            " [1]\n",
            " [1]\n",
            " [1]\n",
            " [1]\n",
            " [1]\n",
            " [1]\n",
            " [1]\n",
            " [1]\n",
            " [1]\n",
            " [1]\n",
            " [1]\n",
            " [1]\n",
            " [1]\n",
            " [1]\n",
            " [1]\n",
            " [1]\n",
            " [1]\n",
            " [1]\n",
            " [1]\n",
            " [1]\n",
            " [1]\n",
            " [1]\n",
            " [1]\n",
            " [1]\n",
            " [1]\n",
            " [1]\n",
            " [1]\n",
            " [1]\n",
            " [1]\n",
            " [1]\n",
            " [1]\n",
            " [1]\n",
            " [1]\n",
            " [1]\n",
            " [1]\n",
            " [1]\n",
            " [1]\n",
            " [1]\n",
            " [1]\n",
            " [1]\n",
            " [1]\n",
            " [1]\n",
            " [1]\n",
            " [1]\n",
            " [1]\n",
            " [1]\n",
            " [1]\n",
            " [1]\n",
            " [1]\n",
            " [1]\n",
            " [1]\n",
            " [1]\n",
            " [1]\n",
            " [1]\n",
            " [1]\n",
            " [1]\n",
            " [1]\n",
            " [1]\n",
            " [1]\n",
            " [1]\n",
            " [1]\n",
            " [1]\n",
            " [1]\n",
            " [1]\n",
            " [1]\n",
            " [1]\n",
            " [1]\n",
            " [1]\n",
            " [1]\n",
            " [1]\n",
            " [1]\n",
            " [1]\n",
            " [1]\n",
            " [1]\n",
            " [1]\n",
            " [1]\n",
            " [1]\n",
            " [1]\n",
            " [1]\n",
            " [1]\n",
            " [1]\n",
            " [1]\n",
            " [1]\n",
            " [1]\n",
            " [1]\n",
            " [1]\n",
            " [1]\n",
            " [1]\n",
            " [1]\n",
            " [1]\n",
            " [1]\n",
            " [1]\n",
            " [1]\n",
            " [1]\n",
            " [1]\n",
            " [1]\n",
            " [1]\n",
            " [1]\n",
            " [1]\n",
            " [1]\n",
            " [1]\n",
            " [1]\n",
            " [1]\n",
            " [1]\n",
            " [1]\n",
            " [1]\n",
            " [1]]\n",
            "(563, 1)\n"
          ],
          "name": "stdout"
        }
      ]
    },
    {
      "cell_type": "code",
      "metadata": {
        "id": "xhasJCgnL_7g",
        "colab": {
          "base_uri": "https://localhost:8080/",
          "height": 1000
        },
        "outputId": "84a3e92f-3715-4010-daa0-1b24b748a62d"
      },
      "source": [
        "model_weight_file=\"/content/drive/My Drive/Colab Notebooks/Signature verification Vgg19 Model/final/model_vgg19_weights.h5\"\n",
        "callbacks = [ModelCheckpoint(model_weights_file, monitor='val_acc', save_best_only=True)]\n",
        "\n",
        "history = model.fit_generator( train_generator, callbacks = callbacks, nb_epoch=nb_epochs, validation_data=validation_generator)\n",
        "\n",
        "print('Training Completed!')\n",
        "\n"
      ],
      "execution_count": null,
      "outputs": [
        {
          "output_type": "stream",
          "text": [
            "Epoch 1/35\n",
            "66/66 [==============================] - 19s 292ms/step - loss: 0.9194 - accuracy: 0.4176 - val_loss: 0.3258 - val_accuracy: 0.5074\n",
            "Epoch 2/35\n",
            "66/66 [==============================] - 18s 280ms/step - loss: 0.7474 - accuracy: 0.5038 - val_loss: 0.4398 - val_accuracy: 0.5074\n",
            "Epoch 3/35\n",
            "66/66 [==============================] - 18s 280ms/step - loss: 0.6965 - accuracy: 0.5327 - val_loss: 0.6471 - val_accuracy: 0.7169\n",
            "Epoch 4/35\n",
            "66/66 [==============================] - 18s 280ms/step - loss: 0.6622 - accuracy: 0.6108 - val_loss: 0.6188 - val_accuracy: 0.7059\n",
            "Epoch 5/35\n",
            "66/66 [==============================] - 18s 279ms/step - loss: 0.6425 - accuracy: 0.6312 - val_loss: 0.7766 - val_accuracy: 0.7500\n",
            "Epoch 6/35\n",
            "66/66 [==============================] - 18s 279ms/step - loss: 0.6239 - accuracy: 0.6501 - val_loss: 1.2775 - val_accuracy: 0.5312\n",
            "Epoch 7/35\n",
            "66/66 [==============================] - 19s 287ms/step - loss: 0.5915 - accuracy: 0.6851 - val_loss: 0.4853 - val_accuracy: 0.7169\n",
            "Epoch 8/35\n",
            "66/66 [==============================] - 19s 283ms/step - loss: 0.5886 - accuracy: 0.7008 - val_loss: 0.9969 - val_accuracy: 0.7004\n",
            "Epoch 9/35\n",
            "66/66 [==============================] - 19s 283ms/step - loss: 0.5755 - accuracy: 0.7121 - val_loss: 1.0964 - val_accuracy: 0.6654\n",
            "Epoch 10/35\n",
            "66/66 [==============================] - 19s 284ms/step - loss: 0.5477 - accuracy: 0.7330 - val_loss: 0.7080 - val_accuracy: 0.8272\n",
            "Epoch 11/35\n",
            "66/66 [==============================] - 19s 284ms/step - loss: 0.5309 - accuracy: 0.7434 - val_loss: 0.3556 - val_accuracy: 0.7335\n",
            "Epoch 12/35\n",
            "66/66 [==============================] - 19s 283ms/step - loss: 0.5626 - accuracy: 0.7154 - val_loss: 0.6200 - val_accuracy: 0.8621\n",
            "Epoch 13/35\n",
            "66/66 [==============================] - 19s 281ms/step - loss: 0.5234 - accuracy: 0.7424 - val_loss: 0.9091 - val_accuracy: 0.7482\n",
            "Epoch 14/35\n",
            "66/66 [==============================] - 19s 281ms/step - loss: 0.4957 - accuracy: 0.7798 - val_loss: 0.7671 - val_accuracy: 0.8346\n",
            "Epoch 15/35\n",
            "66/66 [==============================] - 19s 281ms/step - loss: 0.4916 - accuracy: 0.7666 - val_loss: 0.3131 - val_accuracy: 0.7463\n",
            "Epoch 16/35\n",
            "66/66 [==============================] - 19s 291ms/step - loss: 0.4859 - accuracy: 0.7794 - val_loss: 0.6783 - val_accuracy: 0.8566\n",
            "Epoch 17/35\n",
            "66/66 [==============================] - 19s 283ms/step - loss: 0.4563 - accuracy: 0.7884 - val_loss: 0.5832 - val_accuracy: 0.8750\n",
            "Epoch 18/35\n",
            "66/66 [==============================] - 18s 280ms/step - loss: 0.4565 - accuracy: 0.7969 - val_loss: 0.8296 - val_accuracy: 0.8125\n",
            "Epoch 19/35\n",
            "66/66 [==============================] - 18s 280ms/step - loss: 0.4481 - accuracy: 0.7917 - val_loss: 0.5070 - val_accuracy: 0.8768\n",
            "Epoch 20/35\n",
            "66/66 [==============================] - 19s 284ms/step - loss: 0.4084 - accuracy: 0.8243 - val_loss: 0.9531 - val_accuracy: 0.7996\n",
            "Epoch 21/35\n",
            "66/66 [==============================] - 19s 284ms/step - loss: 0.4755 - accuracy: 0.7708 - val_loss: 0.7637 - val_accuracy: 0.8235\n",
            "Epoch 22/35\n",
            "66/66 [==============================] - 19s 284ms/step - loss: 0.4235 - accuracy: 0.8106 - val_loss: 1.5091 - val_accuracy: 0.6158\n",
            "Epoch 23/35\n",
            "66/66 [==============================] - 19s 285ms/step - loss: 0.4131 - accuracy: 0.8205 - val_loss: 0.9303 - val_accuracy: 0.7647\n",
            "Epoch 24/35\n",
            "66/66 [==============================] - 19s 286ms/step - loss: 0.3831 - accuracy: 0.8314 - val_loss: 0.6464 - val_accuracy: 0.8658\n",
            "Epoch 25/35\n",
            "66/66 [==============================] - 19s 286ms/step - loss: 0.4529 - accuracy: 0.7751 - val_loss: 0.5762 - val_accuracy: 0.8732\n",
            "Epoch 26/35\n",
            "66/66 [==============================] - 19s 284ms/step - loss: 0.3708 - accuracy: 0.8390 - val_loss: 0.9570 - val_accuracy: 0.7629\n",
            "Epoch 27/35\n",
            "66/66 [==============================] - 19s 283ms/step - loss: 0.4235 - accuracy: 0.8049 - val_loss: 0.7238 - val_accuracy: 0.8346\n",
            "Epoch 28/35\n",
            "66/66 [==============================] - 19s 283ms/step - loss: 0.3956 - accuracy: 0.8258 - val_loss: 0.8957 - val_accuracy: 0.7665\n",
            "Epoch 29/35\n",
            "66/66 [==============================] - 19s 284ms/step - loss: 0.3729 - accuracy: 0.8423 - val_loss: 0.7679 - val_accuracy: 0.7960\n",
            "Epoch 30/35\n",
            "66/66 [==============================] - 19s 282ms/step - loss: 0.3529 - accuracy: 0.8438 - val_loss: 0.4024 - val_accuracy: 0.8879\n",
            "Epoch 31/35\n",
            "66/66 [==============================] - 19s 282ms/step - loss: 0.5825 - accuracy: 0.7221 - val_loss: 0.6366 - val_accuracy: 0.8438\n",
            "Epoch 32/35\n",
            "66/66 [==============================] - 19s 283ms/step - loss: 0.3937 - accuracy: 0.8215 - val_loss: 0.5745 - val_accuracy: 0.8768\n",
            "Epoch 33/35\n",
            "66/66 [==============================] - 19s 290ms/step - loss: 0.3858 - accuracy: 0.8201 - val_loss: 0.2727 - val_accuracy: 0.8401\n",
            "Epoch 34/35\n",
            "66/66 [==============================] - 19s 282ms/step - loss: 0.3606 - accuracy: 0.8295 - val_loss: 0.3419 - val_accuracy: 0.8860\n",
            "Epoch 35/35\n",
            "66/66 [==============================] - 18s 279ms/step - loss: 0.3553 - accuracy: 0.8452 - val_loss: 0.7629 - val_accuracy: 0.8051\n",
            "Training Completed!\n"
          ],
          "name": "stdout"
        }
      ]
    },
    {
      "cell_type": "code",
      "metadata": {
        "id": "XrqW4KwQL_7r",
        "colab": {
          "base_uri": "https://localhost:8080/",
          "height": 340
        },
        "outputId": "0e5b5c88-8847-4d0e-e9ee-a3ccdfdf6b16"
      },
      "source": [
        " # save model and architecture to single file\n",
        "model.save(\"/content/drive/My Drive/Colab Notebooks/Signature verification Vgg19 Model/final/model_vgg19.h5\")\n",
        "model.summary()\n",
        "\n",
        "print(\"Saved model to disk\")"
      ],
      "execution_count": null,
      "outputs": [
        {
          "output_type": "stream",
          "text": [
            "Model: \"sequential_4\"\n",
            "_________________________________________________________________\n",
            "Layer (type)                 Output Shape              Param #   \n",
            "=================================================================\n",
            "vgg19 (Model)                (None, 4, 4, 512)         20024384  \n",
            "_________________________________________________________________\n",
            "flatten_3 (Flatten)          (None, 8192)              0         \n",
            "_________________________________________________________________\n",
            "hidden_layer (Dense)         (None, 128)               1048704   \n",
            "_________________________________________________________________\n",
            "classification_layer (Dense) (None, 64)                8256      \n",
            "_________________________________________________________________\n",
            "output_layer (Dense)         (None, 1)                 65        \n",
            "=================================================================\n",
            "Total params: 21,081,409\n",
            "Trainable params: 1,057,025\n",
            "Non-trainable params: 20,024,384\n",
            "_________________________________________________________________\n",
            "Saved model to disk\n"
          ],
          "name": "stdout"
        }
      ]
    },
    {
      "cell_type": "code",
      "metadata": {
        "id": "5xgkyiPsnGms",
        "colab": {
          "base_uri": "https://localhost:8080/",
          "height": 34
        },
        "outputId": "14f8acc2-c728-4040-ee34-8c5e6263f66e"
      },
      "source": [
        "# Loading saved model from Drive.\n",
        "from keras.models import load_model\n",
        "model = load_model(\"/content/drive/My Drive/Colab Notebooks/Signature verification Vgg19 Model/final/model_vgg19.h5\")\n",
        "print(\"Model is Loaded\")"
      ],
      "execution_count": null,
      "outputs": [
        {
          "output_type": "stream",
          "text": [
            "Model is Loaded\n"
          ],
          "name": "stdout"
        }
      ]
    },
    {
      "cell_type": "markdown",
      "metadata": {
        "id": "oiBbsh5-19D6"
      },
      "source": [
        ""
      ]
    },
    {
      "cell_type": "code",
      "metadata": {
        "id": "qMpmZaCJFPxi"
      },
      "source": [
        "from keras.models import load_model\n",
        "layer_name= 'classification_layer'\n",
        "intermediate_layer_model = Model(inputs=model.input,\n",
        "                                 outputs=model.get_layer(layer_name).output)\n",
        "\n"
      ],
      "execution_count": null,
      "outputs": []
    },
    {
      "cell_type": "code",
      "metadata": {
        "id": "9Ls3jvBMEkj_",
        "colab": {
          "base_uri": "https://localhost:8080/",
          "height": 34
        },
        "outputId": "de59d9ba-a043-4255-f7f2-c7b2e4c3196f"
      },
      "source": [
        "# Compilation of intermediate model\n",
        "intermediate_layer_model.compile(loss='binary_crossentropy', optimizer='adam', metrics=['accuracy'])\n",
        "print(\"Model is Complied\")"
      ],
      "execution_count": null,
      "outputs": [
        {
          "output_type": "stream",
          "text": [
            "Model is Complied\n"
          ],
          "name": "stdout"
        }
      ]
    },
    {
      "cell_type": "code",
      "metadata": {
        "id": "Hivj_psZpbrU",
        "colab": {
          "base_uri": "https://localhost:8080/",
          "height": 340
        },
        "outputId": "6299b508-60fe-42e4-c8ed-a1ba298fb6f7"
      },
      "source": [
        "# Saving intermediate model\n",
        "intermediate_layer_model.save(\"/content/drive/My Drive/Colab Notebooks/Signature verification Vgg19 Model/final/intermediate_model_vgg19.h5\")\n",
        "intermediate_layer_model.summary()\n",
        "\n",
        "print(\"Saved Intermediate model to disk\")"
      ],
      "execution_count": null,
      "outputs": [
        {
          "output_type": "stream",
          "text": [
            "Model: \"model_3\"\n",
            "_________________________________________________________________\n",
            "Layer (type)                 Output Shape              Param #   \n",
            "=================================================================\n",
            "vgg19_input (InputLayer)     (None, 128, 128, 3)       0         \n",
            "_________________________________________________________________\n",
            "vgg19 (Model)                (None, 4, 4, 512)         20024384  \n",
            "_________________________________________________________________\n",
            "flatten_3 (Flatten)          (None, 8192)              0         \n",
            "_________________________________________________________________\n",
            "hidden_layer (Dense)         (None, 128)               1048704   \n",
            "_________________________________________________________________\n",
            "classification_layer (Dense) (None, 64)                8256      \n",
            "=================================================================\n",
            "Total params: 21,081,344\n",
            "Trainable params: 1,056,960\n",
            "Non-trainable params: 20,024,384\n",
            "_________________________________________________________________\n",
            "Saved Intermediate model to disk\n"
          ],
          "name": "stdout"
        }
      ]
    },
    {
      "cell_type": "code",
      "metadata": {
        "id": "lT373FILp0_e",
        "colab": {
          "base_uri": "https://localhost:8080/",
          "height": 34
        },
        "outputId": "8939942f-ccf1-4eee-bc70-ac78ac5f5bc8"
      },
      "source": [
        "# Loading Intermediate Model\n",
        "from keras.models import load_model\n",
        "\n",
        "model = load_model(\"/content/drive/My Drive/Colab Notebooks/Signature verification Vgg19 Model/final/intermediate_model_vgg19.h5\")\n",
        "print(\"Intermediate model is loaded\")"
      ],
      "execution_count": null,
      "outputs": [
        {
          "output_type": "stream",
          "text": [
            "Intermediate model is loaded\n"
          ],
          "name": "stdout"
        }
      ]
    },
    {
      "cell_type": "code",
      "metadata": {
        "id": "tawP0q3yqGBO",
        "colab": {
          "base_uri": "https://localhost:8080/",
          "height": 34
        },
        "outputId": "fc055954-c057-423b-c655-5f99d15b63c9"
      },
      "source": [
        "# Training Label feature identification(y_train)\n",
        " import numpy as np\n",
        " batch_size=32\n",
        " sample_count=2112\n",
        " features = np.zeros(shape=(2112, 64))  # Must be equal to the output of the convolutional base\n",
        " labels = np.zeros(shape=(2112))\n",
        " i = 0\n",
        " for inputs_batch, labels_batch in train_generator:\n",
        "   features_batch = model.predict(inputs_batch)\n",
        "   features[i * batch_size: (i + 1) * batch_size] = features_batch\n",
        "   labels[i * batch_size: (i + 1) * batch_size] = labels_batch\n",
        "   i += 1\n",
        "   if i*batch_size  >= sample_count:\n",
        "     break\n",
        " print(labels.shape)"
      ],
      "execution_count": null,
      "outputs": [
        {
          "output_type": "stream",
          "text": [
            "(2112,)\n"
          ],
          "name": "stdout"
        }
      ]
    },
    {
      "cell_type": "code",
      "metadata": {
        "id": "Bl7T9UrMqKGo",
        "colab": {
          "base_uri": "https://localhost:8080/",
          "height": 306
        },
        "outputId": "90f83982-71ae-4e34-ee83-771a84be08c6"
      },
      "source": [
        "#identification of training Labels\n",
        "features_train=features\n",
        "print(features_train.shape)\n",
        "labels_train=np.expand_dims(labels, axis=1)\n",
        "print(labels_train.shape)\n",
        "print(labels_train)#identification of training Labels\n",
        "features_train=features\n",
        "print(features_train.shape)\n",
        "print(features_train)"
      ],
      "execution_count": null,
      "outputs": [
        {
          "output_type": "stream",
          "text": [
            "(2112, 64)\n",
            "(2112, 1)\n",
            "[[0.]\n",
            " [0.]\n",
            " [0.]\n",
            " ...\n",
            " [1.]\n",
            " [1.]\n",
            " [1.]]\n",
            "(2112, 64)\n",
            "[[0.42175806 0.         0.         ... 0.         0.         0.        ]\n",
            " [0.7171132  0.         0.         ... 0.         0.         0.        ]\n",
            " [0.96762115 0.         0.         ... 0.         0.         0.        ]\n",
            " ...\n",
            " [0.40391454 0.         0.         ... 0.         0.         0.        ]\n",
            " [0.29816014 0.         0.         ... 0.         0.         0.        ]\n",
            " [0.22015978 0.         0.         ... 0.         0.         0.        ]]\n"
          ],
          "name": "stdout"
        }
      ]
    },
    {
      "cell_type": "code",
      "metadata": {
        "id": "MdMzIPE1qNhX",
        "colab": {
          "base_uri": "https://localhost:8080/",
          "height": 170
        },
        "outputId": "5c13572d-f878-420d-e3f1-b1cc7af2edb9"
      },
      "source": [
        "#identification of training Labels\n",
        "features_train=features\n",
        "print(features_train.shape)\n",
        "labels_train=np.expand_dims(labels, axis=1)\n",
        "print(labels_train.shape)\n",
        "print(labels_train)"
      ],
      "execution_count": null,
      "outputs": [
        {
          "output_type": "stream",
          "text": [
            "(2112, 64)\n",
            "(2112, 1)\n",
            "[[0.]\n",
            " [0.]\n",
            " [0.]\n",
            " ...\n",
            " [1.]\n",
            " [1.]\n",
            " [1.]]\n"
          ],
          "name": "stdout"
        }
      ]
    },
    {
      "cell_type": "code",
      "metadata": {
        "id": "7SBF1J3vqQ4W",
        "colab": {
          "base_uri": "https://localhost:8080/",
          "height": 442
        },
        "outputId": "257ae79a-37a4-4977-8222-7d039aec2d21"
      },
      "source": [
        "# identification of test labels\n",
        " import numpy as np\n",
        " batch_size=32\n",
        " sample_count=544\n",
        " features_test = np.zeros(shape=(544, 64))  # Must be equal to the output of the convolutional base\n",
        " labels_test = np.zeros(shape=(544))\n",
        " i = 0\n",
        " for inputs_batch, labels_batch in validation_generator:\n",
        "   features_batch = model.predict(inputs_batch)\n",
        "   features_test[i * batch_size: (i + 1) * batch_size] = features_batch\n",
        "   labels_test[i * batch_size: (i + 1) * batch_size] = labels_batch\n",
        "   i += 1\n",
        "   if i*batch_size  >= sample_count:\n",
        "     break\n",
        " print(labels_test.shape)\n",
        " print(features_test.shape)\n",
        " print(labels_test)"
      ],
      "execution_count": null,
      "outputs": [
        {
          "output_type": "stream",
          "text": [
            "(544,)\n",
            "(544, 64)\n",
            "[0. 0. 0. 0. 0. 0. 0. 0. 0. 0. 0. 0. 0. 0. 0. 0. 0. 0. 0. 0. 0. 0. 0. 0.\n",
            " 0. 0. 0. 0. 0. 0. 0. 0. 0. 0. 0. 0. 0. 0. 0. 0. 0. 0. 0. 0. 0. 0. 0. 0.\n",
            " 0. 0. 0. 0. 0. 0. 0. 0. 0. 0. 0. 0. 0. 0. 0. 0. 0. 0. 0. 0. 0. 0. 0. 0.\n",
            " 0. 0. 0. 0. 0. 0. 0. 0. 0. 0. 0. 0. 0. 0. 0. 0. 0. 0. 0. 0. 0. 0. 0. 0.\n",
            " 0. 0. 0. 0. 0. 0. 0. 0. 0. 0. 0. 0. 0. 0. 0. 0. 0. 0. 0. 0. 0. 0. 0. 0.\n",
            " 0. 0. 0. 0. 0. 0. 0. 0. 0. 0. 0. 0. 0. 0. 0. 0. 0. 0. 0. 0. 0. 0. 0. 0.\n",
            " 0. 0. 0. 0. 0. 0. 0. 0. 0. 0. 0. 0. 0. 0. 0. 0. 0. 0. 0. 0. 0. 0. 0. 0.\n",
            " 0. 0. 0. 0. 0. 0. 0. 0. 0. 0. 0. 0. 0. 0. 0. 0. 0. 0. 0. 0. 0. 0. 0. 0.\n",
            " 0. 0. 0. 0. 0. 0. 0. 0. 0. 0. 0. 0. 0. 0. 0. 0. 0. 0. 0. 0. 0. 0. 0. 0.\n",
            " 0. 0. 0. 0. 0. 0. 0. 0. 0. 0. 0. 0. 0. 0. 0. 0. 0. 0. 0. 0. 0. 0. 0. 0.\n",
            " 0. 0. 0. 0. 0. 0. 0. 0. 0. 0. 0. 0. 0. 0. 0. 0. 0. 0. 0. 0. 0. 0. 0. 0.\n",
            " 0. 0. 0. 0. 1. 1. 1. 1. 1. 1. 1. 1. 1. 1. 1. 1. 1. 1. 1. 1. 1. 1. 1. 1.\n",
            " 1. 1. 1. 1. 1. 1. 1. 1. 1. 1. 1. 1. 1. 1. 1. 1. 1. 1. 1. 1. 1. 1. 1. 1.\n",
            " 1. 1. 1. 1. 1. 1. 1. 1. 1. 1. 1. 1. 1. 1. 1. 1. 1. 1. 1. 1. 1. 1. 1. 1.\n",
            " 1. 1. 1. 1. 1. 1. 1. 1. 1. 1. 1. 1. 1. 1. 1. 1. 1. 1. 1. 1. 1. 1. 1. 1.\n",
            " 1. 1. 1. 1. 1. 1. 1. 1. 1. 1. 1. 1. 1. 1. 1. 1. 1. 1. 1. 1. 1. 1. 1. 1.\n",
            " 1. 1. 1. 1. 1. 1. 1. 1. 1. 1. 1. 1. 1. 1. 1. 1. 1. 1. 1. 1. 1. 1. 1. 1.\n",
            " 1. 1. 1. 1. 1. 1. 1. 1. 1. 1. 1. 1. 1. 1. 1. 1. 1. 1. 1. 1. 1. 1. 1. 1.\n",
            " 1. 1. 1. 1. 1. 1. 1. 1. 1. 1. 1. 1. 1. 1. 1. 1. 1. 1. 1. 1. 1. 1. 1. 1.\n",
            " 1. 1. 1. 1. 1. 1. 1. 1. 1. 1. 1. 1. 1. 1. 1. 1. 1. 1. 1. 1. 1. 1. 1. 1.\n",
            " 1. 1. 1. 1. 1. 1. 1. 1. 1. 1. 1. 1. 1. 1. 1. 1. 1. 1. 1. 1. 1. 1. 1. 1.\n",
            " 1. 1. 1. 1. 1. 1. 1. 1. 1. 1. 1. 1. 1. 1. 1. 1. 1. 1. 1. 1. 1. 1. 1. 1.\n",
            " 1. 1. 1. 1. 1. 1. 1. 1. 1. 1. 1. 1. 1. 1. 1. 1.]\n"
          ],
          "name": "stdout"
        }
      ]
    },
    {
      "cell_type": "code",
      "metadata": {
        "id": "7dih8QbQqUel",
        "colab": {
          "base_uri": "https://localhost:8080/",
          "height": 170
        },
        "outputId": "5f9a1a5a-79a1-44eb-825d-1e4547ad1c15"
      },
      "source": [
        "# #identification of testing Labels\n",
        "print(features_test.shape)\n",
        "print(features_test)\n",
        "labels_test=np.expand_dims(labels_test, axis=1)\n",
        "print(labels_test.shape)"
      ],
      "execution_count": null,
      "outputs": [
        {
          "output_type": "stream",
          "text": [
            "(544, 64)\n",
            "[[1.06429529 0.         0.         ... 0.         0.         0.        ]\n",
            " [0.95386809 0.         0.         ... 0.         0.         0.        ]\n",
            " [1.45215046 0.         0.         ... 0.         0.         0.        ]\n",
            " ...\n",
            " [0.15600803 0.         0.         ... 0.         0.         0.        ]\n",
            " [0.01173442 0.         0.         ... 0.         0.02491131 0.        ]\n",
            " [0.19759145 0.         0.         ... 0.         0.         0.        ]]\n",
            "(544, 1)\n"
          ],
          "name": "stdout"
        }
      ]
    },
    {
      "cell_type": "code",
      "metadata": {
        "id": "fYX4UkEYqZJb",
        "colab": {
          "base_uri": "https://localhost:8080/",
          "height": 68
        },
        "outputId": "ef0689ae-65d8-4717-d35d-322548472bc0"
      },
      "source": [
        "# SVM\n",
        "# Feature Scaling\n",
        "from sklearn.preprocessing import StandardScaler\n",
        "sc = StandardScaler()\n",
        "X_train = sc.fit_transform(features_train)\n",
        "X_test = sc.transform(features_test)\n",
        "\n",
        "# Fitting SVM to the Training set\n",
        "from sklearn.svm import SVC\n",
        "classifier = SVC(kernel = 'linear', random_state = 0)\n",
        "classifier.fit(X_train,labels_train.ravel())\n",
        "\n",
        "# Predicting the Test set results\n",
        "y_pred = classifier.predict(X_test)\n",
        "\n",
        "# Making the Confusion Matrix\n",
        "from sklearn.metrics import confusion_matrix\n",
        "cm = confusion_matrix(labels_test, y_pred)\n",
        "print(cm)\n",
        "from sklearn.metrics import accuracy_score\n",
        "print(accuracy_score(labels_test, y_pred))"
      ],
      "execution_count": null,
      "outputs": [
        {
          "output_type": "stream",
          "text": [
            "[[255  13]\n",
            " [ 77 199]]\n",
            "0.8345588235294118\n"
          ],
          "name": "stdout"
        }
      ]
    },
    {
      "cell_type": "code",
      "metadata": {
        "id": "piTDuGdvNd9z",
        "colab": {
          "base_uri": "https://localhost:8080/",
          "height": 68
        },
        "outputId": "b55d9882-c4b4-48ab-9439-a76d5985b6ad"
      },
      "source": [
        "\n",
        "# Kernel SVM\n",
        "# Feature Scaling\n",
        "from sklearn.preprocessing import StandardScaler\n",
        "sc = StandardScaler()\n",
        "X_train = sc.fit_transform(features_train)\n",
        "X_test = sc.transform(features_test)\n",
        "\n",
        "# Fitting KernelSVM to the Training set\n",
        "from sklearn.svm import SVC\n",
        "classifier = SVC(kernel = 'rbf', random_state = 0)\n",
        "classifier.fit(X_train, labels_train.ravel())\n",
        "\n",
        "# Predicting the Test set results\n",
        "y_pred = classifier.predict(X_test)\n",
        "\n",
        "# Making the Confusion Matrix\n",
        "from sklearn.metrics import confusion_matrix\n",
        "cm = confusion_matrix(labels_test, y_pred)\n",
        "print(cm)\n",
        "from sklearn.metrics import accuracy_score\n",
        "print(accuracy_score(labels_test, y_pred))\n"
      ],
      "execution_count": null,
      "outputs": [
        {
          "output_type": "stream",
          "text": [
            "[[259   9]\n",
            " [ 89 187]]\n",
            "0.8198529411764706\n"
          ],
          "name": "stdout"
        }
      ]
    },
    {
      "cell_type": "code",
      "metadata": {
        "id": "yeyaANSC1zeA",
        "colab": {
          "base_uri": "https://localhost:8080/",
          "height": 68
        },
        "outputId": "84156347-09ae-4cb7-efb0-83dd8a3ccbc1"
      },
      "source": [
        "# Random Forest\n",
        "# Feature Scaling\n",
        "from sklearn.preprocessing import StandardScaler\n",
        "sc = StandardScaler()\n",
        "X_train = sc.fit_transform(features_train)\n",
        "X_test = sc.transform(features_test)\n",
        "\n",
        "# Fitting KernelSVM to the Training set\n",
        "from sklearn.ensemble import RandomForestClassifier\n",
        "classifier = RandomForestClassifier(n_estimators = 10, criterion = 'entropy', random_state = 0)\n",
        "classifier.fit(X_train, labels_train.ravel())\n",
        "\n",
        "# Predicting the Test set results\n",
        "y_pred = classifier.predict(X_test)\n",
        "\n",
        "# Making the Confusion Matrix\n",
        "from sklearn.metrics import confusion_matrix\n",
        "cm = confusion_matrix(labels_test, y_pred)\n",
        "print(cm)\n",
        "from sklearn.metrics import accuracy_score\n",
        "print(accuracy_score(labels_test, y_pred))\n",
        "\n"
      ],
      "execution_count": null,
      "outputs": [
        {
          "output_type": "stream",
          "text": [
            "[[255  13]\n",
            " [ 87 189]]\n",
            "0.8161764705882353\n"
          ],
          "name": "stdout"
        }
      ]
    },
    {
      "cell_type": "code",
      "metadata": {
        "id": "5qBoJeVA7cA0",
        "colab": {
          "base_uri": "https://localhost:8080/",
          "height": 68
        },
        "outputId": "397b1612-0588-4944-b2e0-085e4e98fca7"
      },
      "source": [
        "# Decision Tree\n",
        "# Feature Scaling\n",
        "\n",
        "from sklearn.preprocessing import StandardScaler\n",
        "sc = StandardScaler()\n",
        "X_train = sc.fit_transform(features_train)\n",
        "X_test = sc.transform(features_test)\n",
        "\n",
        "# Fitting KernelSVM to the Training set\n",
        "from sklearn.tree import DecisionTreeClassifier\n",
        "classifier = DecisionTreeClassifier(criterion = 'entropy', random_state = 0)\n",
        "classifier.fit(X_train, labels_train.ravel())\n",
        "\n",
        "# Predicting the Test set results\n",
        "y_pred = classifier.predict(X_test)\n",
        "\n",
        "# Making the Confusion Matrix\n",
        "from sklearn.metrics import confusion_matrix\n",
        "cm = confusion_matrix(labels_test, y_pred)\n",
        "print(cm)\n",
        "from sklearn.metrics import accuracy_score\n",
        "print(accuracy_score(labels_test, y_pred))"
      ],
      "execution_count": null,
      "outputs": [
        {
          "output_type": "stream",
          "text": [
            "[[247  21]\n",
            " [101 175]]\n",
            "0.7757352941176471\n"
          ],
          "name": "stdout"
        }
      ]
    },
    {
      "cell_type": "code",
      "metadata": {
        "id": "DUxX29IQ8Pex",
        "colab": {
          "base_uri": "https://localhost:8080/",
          "height": 68
        },
        "outputId": "ae568c1a-43a7-48fc-a638-9b13865da305"
      },
      "source": [
        "\n",
        "# Naive Bayes\n",
        "# Feature Scaling\n",
        "from sklearn.preprocessing import StandardScaler\n",
        "sc = StandardScaler()\n",
        "X_train = sc.fit_transform(features_train)\n",
        "X_test = sc.transform(features_test)\n",
        "\n",
        "# Fitting KernelSVM to the Training set\n",
        "from sklearn.naive_bayes import GaussianNB\n",
        "classifier = GaussianNB()\n",
        "classifier.fit(X_train, labels_train.ravel())\n",
        "\n",
        "# Predicting the Test set results\n",
        "y_pred = classifier.predict(X_test)\n",
        "\n",
        "# Making the Confusion Matrix\n",
        "from sklearn.metrics import confusion_matrix\n",
        "cm = confusion_matrix(labels_test, y_pred)\n",
        "print(cm)\n",
        "from sklearn.metrics import accuracy_score\n",
        "print(accuracy_score(labels_test, y_pred))\n"
      ],
      "execution_count": null,
      "outputs": [
        {
          "output_type": "stream",
          "text": [
            "[[260   8]\n",
            " [103 173]]\n",
            "0.7959558823529411\n"
          ],
          "name": "stdout"
        }
      ]
    },
    {
      "cell_type": "code",
      "metadata": {
        "id": "yrmXyTdm8nUR",
        "colab": {
          "base_uri": "https://localhost:8080/",
          "height": 68
        },
        "outputId": "0895b683-50c0-44f3-a178-4683e1668e63"
      },
      "source": [
        "# Feature Scaling\n",
        "from sklearn.preprocessing import StandardScaler\n",
        "sc = StandardScaler()\n",
        "X_train = sc.fit_transform(features_train)\n",
        "X_test = sc.transform(features_test)\n",
        "\n",
        "# Fitting KernelSVM to the Training set\n",
        "from sklearn.neighbors import KNeighborsClassifier\n",
        "classifier =  KNeighborsClassifier(n_neighbors = 5, metric = 'minkowski', p = 2)\n",
        "classifier.fit(X_train, labels_train.ravel())\n",
        "\n",
        "# Predicting the Test set results\n",
        "y_pred = classifier.predict(X_test)\n",
        "\n",
        "# Making the Confusion Matrix\n",
        "from sklearn.metrics import confusion_matrix\n",
        "cm = confusion_matrix(labels_test, y_pred)\n",
        "print(cm)\n",
        "from sklearn.metrics import accuracy_score\n",
        "print(accuracy_score(labels_test, y_pred))"
      ],
      "execution_count": null,
      "outputs": [
        {
          "output_type": "stream",
          "text": [
            "[[259   9]\n",
            " [ 87 189]]\n",
            "0.8235294117647058\n"
          ],
          "name": "stdout"
        }
      ]
    },
    {
      "cell_type": "code",
      "metadata": {
        "id": "Z4qIzREF8-uz",
        "colab": {
          "base_uri": "https://localhost:8080/",
          "height": 68
        },
        "outputId": "88e7fc90-cbce-4a6a-b5d2-e878fbd56ab0"
      },
      "source": [
        "from sklearn.linear_model import LogisticRegression\n",
        "classifier = LogisticRegression(random_state = 0)\n",
        "# Feature Scaling\n",
        "from sklearn.preprocessing import StandardScaler\n",
        "sc = StandardScaler()\n",
        "X_train = sc.fit_transform(features_train)\n",
        "X_test = sc.transform(features_test)\n",
        "\n",
        "# Fitting KernelSVM to the Training set\n",
        "from sklearn.linear_model import LogisticRegression\n",
        "classifier = LogisticRegression(random_state = 0)\n",
        "classifier.fit(X_train, labels_train.ravel())\n",
        "\n",
        "# Predicting the Test set results\n",
        "y_pred = classifier.predict(X_test)\n",
        "\n",
        "# Making the Confusion Matrix\n",
        "from sklearn.metrics import confusion_matrix\n",
        "cm = confusion_matrix(labels_test, y_pred)\n",
        "print(cm)\n",
        "from sklearn.metrics import accuracy_score\n",
        "print(accuracy_score(labels_test, y_pred))"
      ],
      "execution_count": null,
      "outputs": [
        {
          "output_type": "stream",
          "text": [
            "[[259   9]\n",
            " [ 89 187]]\n",
            "0.8198529411764706\n"
          ],
          "name": "stdout"
        }
      ]
    },
    {
      "cell_type": "code",
      "metadata": {
        "colab": {
          "base_uri": "https://localhost:8080/"
        },
        "id": "jh2hYqZjK1qT",
        "outputId": "b8b6909f-8565-4d10-a200-2a2a7bff6a5a"
      },
      "source": [
        "from google.colab import drive\r\n",
        "drive.mount('/content/drive')"
      ],
      "execution_count": null,
      "outputs": [
        {
          "output_type": "stream",
          "text": [
            "Drive already mounted at /content/drive; to attempt to forcibly remount, call drive.mount(\"/content/drive\", force_remount=True).\n"
          ],
          "name": "stdout"
        }
      ]
    },
    {
      "cell_type": "code",
      "metadata": {
        "id": "sCESN-7A9ejM",
        "colab": {
          "base_uri": "https://localhost:8080/",
          "height": 262
        },
        "outputId": "c3343640-6acc-4390-9daa-9518dc1947e6"
      },
      "source": [
        "from keras.models import load_model\n",
        "\n",
        "model = load_model(\"/content/drive/My Drive/Colab Notebooks/Signature verification Vgg19 Model/final/model_vgg19.h5\")\n",
        "# Evaluate the model on the test data using `evaluate`\n",
        "print('\\n# Evaluate on test data')\n",
        "results = model.evaluate(validation_generator)\n",
        "print('test loss, test acc:', results)"
      ],
      "execution_count": null,
      "outputs": [
        {
          "output_type": "stream",
          "text": [
            "\n",
            "# Evaluate on test data\n"
          ],
          "name": "stdout"
        },
        {
          "output_type": "error",
          "ename": "NameError",
          "evalue": "ignored",
          "traceback": [
            "\u001b[0;31m---------------------------------------------------------------------------\u001b[0m",
            "\u001b[0;31mNameError\u001b[0m                                 Traceback (most recent call last)",
            "\u001b[0;32m<ipython-input-12-8d66840dc510>\u001b[0m in \u001b[0;36m<module>\u001b[0;34m()\u001b[0m\n\u001b[1;32m      4\u001b[0m \u001b[0;31m# Evaluate the model on the test data using `evaluate`\u001b[0m\u001b[0;34m\u001b[0m\u001b[0;34m\u001b[0m\u001b[0;34m\u001b[0m\u001b[0m\n\u001b[1;32m      5\u001b[0m \u001b[0mprint\u001b[0m\u001b[0;34m(\u001b[0m\u001b[0;34m'\\n# Evaluate on test data'\u001b[0m\u001b[0;34m)\u001b[0m\u001b[0;34m\u001b[0m\u001b[0;34m\u001b[0m\u001b[0m\n\u001b[0;32m----> 6\u001b[0;31m \u001b[0mresults\u001b[0m \u001b[0;34m=\u001b[0m \u001b[0mmodel\u001b[0m\u001b[0;34m.\u001b[0m\u001b[0mevaluate\u001b[0m\u001b[0;34m(\u001b[0m\u001b[0mvalidation_generator\u001b[0m\u001b[0;34m)\u001b[0m\u001b[0;34m\u001b[0m\u001b[0;34m\u001b[0m\u001b[0m\n\u001b[0m\u001b[1;32m      7\u001b[0m \u001b[0mprint\u001b[0m\u001b[0;34m(\u001b[0m\u001b[0;34m'test loss, test acc:'\u001b[0m\u001b[0;34m,\u001b[0m \u001b[0mresults\u001b[0m\u001b[0;34m)\u001b[0m\u001b[0;34m\u001b[0m\u001b[0;34m\u001b[0m\u001b[0m\n",
            "\u001b[0;31mNameError\u001b[0m: name 'validation_generator' is not defined"
          ]
        }
      ]
    },
    {
      "cell_type": "code",
      "metadata": {
        "colab": {
          "base_uri": "https://localhost:8080/"
        },
        "id": "nlLmnhA6BKlZ",
        "outputId": "46ff8368-b057-4611-abc9-bd857a3f9f6e"
      },
      "source": [
        "!pip install flask-ngrok"
      ],
      "execution_count": null,
      "outputs": [
        {
          "output_type": "stream",
          "text": [
            "Requirement already satisfied: flask-ngrok in /usr/local/lib/python3.6/dist-packages (0.0.25)\n",
            "Requirement already satisfied: Flask>=0.8 in /usr/local/lib/python3.6/dist-packages (from flask-ngrok) (1.1.2)\n",
            "Requirement already satisfied: requests in /usr/local/lib/python3.6/dist-packages (from flask-ngrok) (2.23.0)\n",
            "Requirement already satisfied: Werkzeug>=0.15 in /usr/local/lib/python3.6/dist-packages (from Flask>=0.8->flask-ngrok) (1.0.1)\n",
            "Requirement already satisfied: itsdangerous>=0.24 in /usr/local/lib/python3.6/dist-packages (from Flask>=0.8->flask-ngrok) (1.1.0)\n",
            "Requirement already satisfied: Jinja2>=2.10.1 in /usr/local/lib/python3.6/dist-packages (from Flask>=0.8->flask-ngrok) (2.11.3)\n",
            "Requirement already satisfied: click>=5.1 in /usr/local/lib/python3.6/dist-packages (from Flask>=0.8->flask-ngrok) (7.1.2)\n",
            "Requirement already satisfied: certifi>=2017.4.17 in /usr/local/lib/python3.6/dist-packages (from requests->flask-ngrok) (2020.12.5)\n",
            "Requirement already satisfied: idna<3,>=2.5 in /usr/local/lib/python3.6/dist-packages (from requests->flask-ngrok) (2.10)\n",
            "Requirement already satisfied: chardet<4,>=3.0.2 in /usr/local/lib/python3.6/dist-packages (from requests->flask-ngrok) (3.0.4)\n",
            "Requirement already satisfied: urllib3!=1.25.0,!=1.25.1,<1.26,>=1.21.1 in /usr/local/lib/python3.6/dist-packages (from requests->flask-ngrok) (1.24.3)\n",
            "Requirement already satisfied: MarkupSafe>=0.23 in /usr/local/lib/python3.6/dist-packages (from Jinja2>=2.10.1->Flask>=0.8->flask-ngrok) (1.1.1)\n"
          ],
          "name": "stdout"
        }
      ]
    },
    {
      "cell_type": "code",
      "metadata": {
        "colab": {
          "base_uri": "https://localhost:8080/"
        },
        "id": "gkbIWI7EBPKQ",
        "outputId": "3d54a6e2-2a1a-4e39-b53e-a75c1d047aae"
      },
      "source": [
        "# Mounting Google Drive\r\n",
        "from google.colab import drive\r\n",
        "drive.mount('/content/drive')"
      ],
      "execution_count": null,
      "outputs": [
        {
          "output_type": "stream",
          "text": [
            "Drive already mounted at /content/drive; to attempt to forcibly remount, call drive.mount(\"/content/drive\", force_remount=True).\n"
          ],
          "name": "stdout"
        }
      ]
    },
    {
      "cell_type": "code",
      "metadata": {
        "id": "UoWYOcpUBieh"
      },
      "source": [
        "%mkdir templates -p"
      ],
      "execution_count": null,
      "outputs": []
    },
    {
      "cell_type": "code",
      "metadata": {
        "colab": {
          "base_uri": "https://localhost:8080/"
        },
        "id": "tfEvIpfXBe4o",
        "outputId": "c39d755c-2443-42fa-c853-63b22511df05"
      },
      "source": [
        "%%writefile templates/base.html\r\n",
        "<!DOCTYPE html>\r\n",
        "\r\n",
        "<html lang=\"en\">\r\n",
        "\r\n",
        "<head>\r\n",
        "    <meta charset=\"UTF-8\">\r\n",
        "    <meta name=\"viewport\" content=\"width=device-width, initial-scale=1.0\">\r\n",
        "    <meta http-equiv=\"X-UA-Compatible\" content=\"ie=edge\">\r\n",
        "    <title>Deep Learning Model Deployment</title>\r\n",
        "    <link href=\"https://cdn.bootcss.com/bootstrap/4.0.0/css/bootstrap.min.css\" rel=\"stylesheet\">\r\n",
        "    <script src=\"https://cdn.bootcss.com/popper.js/1.12.9/umd/popper.min.js\"></script>\r\n",
        "    <script src=\"https://cdn.bootcss.com/jquery/3.3.1/jquery.min.js\"></script>\r\n",
        "    <script src=\"https://cdn.bootcss.com/bootstrap/4.0.0/js/bootstrap.min.js\"></script>\r\n",
        "    <link href=\"{{ url_for('static', filename='css/main.css') }}\" rel=\"stylesheet\">      \r\n",
        "</head>\r\n",
        "\r\n",
        "<body>\r\n",
        "    <nav class=\"navbar navbar-dark bg-dark\">\r\n",
        "        <div class=\"container\">\r\n",
        "            <a class=\"navbar-brand\" href=\"#\">AI Demo</a>\r\n",
        "            <button class=\"btn btn-outline-secondary my-2 my-sm-0\" type=\"submit\">Help</button>\r\n",
        "        </div>\r\n",
        "    </nav>\r\n",
        "    <div class=\"container\">\r\n",
        "        <div id=\"content\" style=\"margin-top:2em\">{% block content %}{% endblock %}</div>\r\n",
        "    </div>\r\n",
        "</body>\r\n",
        "\r\n",
        "<footer>\r\n",
        "    <script src=\"{{ url_for('static', filename='js/main.js') }}\" type=\"text/javascript\"></script>    \r\n",
        "</footer>\r\n",
        "\r\n",
        "</html>"
      ],
      "execution_count": null,
      "outputs": [
        {
          "output_type": "stream",
          "text": [
            "Overwriting templates/base.html\n"
          ],
          "name": "stdout"
        }
      ]
    },
    {
      "cell_type": "code",
      "metadata": {
        "colab": {
          "base_uri": "https://localhost:8080/"
        },
        "id": "RyE-yJpJCVgb",
        "outputId": "bd4641d9-e344-4a91-a604-2d17674400fc"
      },
      "source": [
        "%%writefile templates/index.html\r\n",
        "{% extends \"base.html\" %} {% block content %}\r\n",
        "\r\n",
        "<div class=\"\" style=\"background-color:blue;\" >\r\n",
        "<div class=\"clearfix\">\r\n",
        "           \r\n",
        "<div class=\"col-md-12\">\r\n",
        "<center><p style=\"font-size:40px;color:white;margin-top:10px;\">Poornima Institute of Engineering & Technology</p></center> \r\n",
        "<center><p style=\"font-size:30px;color:white;margin-top:10px;\">Department of Computer Engineering</p></center> \r\n",
        "<center><p style=\"font-size:25px;color:white;margin-top:10px;\">Deep Learning Model Deployment</p></center> \r\n",
        "</div>\r\n",
        "</div>\r\n",
        "</div>\r\n",
        "\r\n",
        "\r\n",
        "<div>\r\n",
        "    <form id=\"upload-file\" method=\"post\" enctype=\"multipart/form-data\">\r\n",
        "       <center> <input type=\"file\" name=\"file\" id=\"imageUpload\" accept=\".png, .jpg, .jpeg\"></center>\r\n",
        "    </form>\r\n",
        "\r\n",
        "    <div class=\"image-section\" style=\"display:none;\">\r\n",
        "        <div class=\"img-preview\">\r\n",
        "            <div id=\"imagePreview\">\r\n",
        "            </div>\r\n",
        "        </div>\r\n",
        "        <div>\r\n",
        "           <center> <button type=\"button\" class=\"btn btn-primary btn-lg \" id=\"btn-predict\">Predict Signature</button></center>\r\n",
        "        </div>\r\n",
        "    </div>\r\n",
        "\r\n",
        "    <div class=\"loader\" style=\"display:none;\"></div>\r\n",
        "\r\n",
        "    <h3 id=\"result\">\r\n",
        "        <span> </span>\r\n",
        "    </h3>\r\n",
        "\r\n",
        "</div>\r\n",
        "\r\n",
        "{% endblock %}"
      ],
      "execution_count": null,
      "outputs": [
        {
          "output_type": "stream",
          "text": [
            "Overwriting templates/index.html\n"
          ],
          "name": "stdout"
        }
      ]
    },
    {
      "cell_type": "code",
      "metadata": {
        "id": "YkykL7AVCwQS"
      },
      "source": [
        "%mkdir static/css -p"
      ],
      "execution_count": null,
      "outputs": []
    },
    {
      "cell_type": "code",
      "metadata": {
        "colab": {
          "base_uri": "https://localhost:8080/"
        },
        "id": "VrPe8oZmDDPA",
        "outputId": "690326dc-080a-4071-c09b-ed2edf9669ba"
      },
      "source": [
        "%%writefile static/css/main.css\r\n",
        ".img-preview {\r\n",
        "    width: 500px;\r\n",
        "    height: 500px;\r\n",
        "    position: relative;\r\n",
        "    border: 5px solid #F8F8F8;\r\n",
        "    box-shadow: 0px 2px 4px 0px rgba(0, 0, 0, 0.1);\r\n",
        "    margin-top: 1em;\r\n",
        "    margin-bottom: 1em; \r\n",
        "    align-items: center \r\n",
        "    display: block;\r\n",
        "    margin-left: auto;\r\n",
        "    margin-right: auto;  \r\n",
        "}\r\n",
        "\r\n",
        ".img-preview>div {\r\n",
        "    width: 100%;\r\n",
        "    height: 100%;\r\n",
        "    background-size: 256px 256px;\r\n",
        "    background-repeat: no-repeat;\r\n",
        "    background-position: center;\r\n",
        "    align-items: center\r\n",
        "    display: block;\r\n",
        "   margin-left: auto;\r\n",
        "   margin-right: auto;\r\n",
        "}\r\n",
        "\r\n",
        "input[type=\"file\"] {\r\n",
        "    display: none;\r\n",
        "    display: block;\r\n",
        "  margin-left: auto;\r\n",
        "  margin-right: auto;\r\n",
        "}\r\n",
        "\r\n",
        ".upload-label{\r\n",
        "    display: inline-block;\r\n",
        "    padding: 20px 30px;\r\n",
        "    background: #39D2B4;\r\n",
        "    color: #fff;\r\n",
        "    font-size: 1em;\r\n",
        "    transition: all .4s;\r\n",
        "    cursor: pointer;\r\n",
        "    align-items: center\r\n",
        "    display: block;\r\n",
        "    margin-left: auto;\r\n",
        "    margin-right: auto;\r\n",
        "}\r\n",
        "\r\n",
        ".upload-label:hover{\r\n",
        "    background: #34495E;\r\n",
        "    color: #39D2B4;\r\n",
        "    align-items: center\r\n",
        "\r\n",
        "}\r\n",
        "\r\n",
        ".loader {\r\n",
        "    border: 8px solid #f3f3f3; /* Light grey */\r\n",
        "    border-top: 8px solid #3498db; /* Blue */\r\n",
        "    border-radius: 50%;\r\n",
        "    width: 50px;\r\n",
        "    height: 50px;\r\n",
        "    display: block;\r\n",
        "    margin-left: auto;\r\n",
        "    margin-right: auto;\r\n",
        "    animation: spin 1s linear infinite;\r\n",
        "}\r\n",
        "\r\n",
        "@keyframes spin {\r\n",
        "    0% { transform: rotate(0deg); }\r\n",
        "    100% { transform: rotate(360deg); }\r\n",
        "}"
      ],
      "execution_count": null,
      "outputs": [
        {
          "output_type": "stream",
          "text": [
            "Overwriting static/css/main.css\n"
          ],
          "name": "stdout"
        }
      ]
    },
    {
      "cell_type": "code",
      "metadata": {
        "id": "TGL2ZOuvDW58"
      },
      "source": [
        "%mkdir static/js -p"
      ],
      "execution_count": null,
      "outputs": []
    },
    {
      "cell_type": "code",
      "metadata": {
        "id": "siIsMRlAFZ6J"
      },
      "source": [
        "%mkdir uploads -p"
      ],
      "execution_count": null,
      "outputs": []
    },
    {
      "cell_type": "code",
      "metadata": {
        "colab": {
          "base_uri": "https://localhost:8080/"
        },
        "id": "DRTd_mAUDVhZ",
        "outputId": "4386d219-d81b-4cd7-9aef-e1492901d97f"
      },
      "source": [
        "%%writefile static/js/main.js\r\n",
        "$(document).ready(function () {\r\n",
        "    // Init\r\n",
        "    $('.image-section').hide();\r\n",
        "    $('.loader').hide();\r\n",
        "    $('#result').hide();\r\n",
        "\r\n",
        "    // Upload Preview\r\n",
        "    function readURL(input) {\r\n",
        "        if (input.files && input.files[0]) {\r\n",
        "            var reader = new FileReader();\r\n",
        "            reader.onload = function (e) {\r\n",
        "                $('#imagePreview').css('background-image', 'url(' + e.target.result + ')');\r\n",
        "                $('#imagePreview').hide();\r\n",
        "                $('#imagePreview').fadeIn(650);\r\n",
        "            }\r\n",
        "            reader.readAsDataURL(input.files[0]);\r\n",
        "        }\r\n",
        "    }\r\n",
        "    $(\"#imageUpload\").change(function () {\r\n",
        "        $('.image-section').show();\r\n",
        "        $('#btn-predict').show();\r\n",
        "        $('#result').text('');\r\n",
        "        $('#result').hide();\r\n",
        "        readURL(this);\r\n",
        "    });\r\n",
        "\r\n",
        "    // Predict\r\n",
        "    $('#btn-predict').click(function () {\r\n",
        "        var form_data = new FormData($('#upload-file')[0]);\r\n",
        "\r\n",
        "        // Show loading animation\r\n",
        "        $(this).hide();\r\n",
        "        $('.loader').show();\r\n",
        "\r\n",
        "        // Make prediction by calling api /predict\r\n",
        "        $.ajax({\r\n",
        "            type: 'POST',\r\n",
        "            url: '/predict',\r\n",
        "            data: form_data,\r\n",
        "            contentType: false,\r\n",
        "            cache: false,\r\n",
        "            processData: false,\r\n",
        "            async: true,\r\n",
        "            success: function (data) {\r\n",
        "                // Get and display the result\r\n",
        "                $('.loader').hide();\r\n",
        "                $('#result').fadeIn(600);\r\n",
        "                $('#result').text('                                                             Model Predicted Signature as  :  ' + data);\r\n",
        "                console.log('Success!');\r\n",
        "            },\r\n",
        "        });\r\n",
        "    });\r\n",
        "\r\n",
        "});\r\n"
      ],
      "execution_count": null,
      "outputs": [
        {
          "output_type": "stream",
          "text": [
            "Overwriting static/js/main.js\n"
          ],
          "name": "stdout"
        }
      ]
    },
    {
      "cell_type": "code",
      "metadata": {
        "colab": {
          "base_uri": "https://localhost:8080/"
        },
        "id": "yxrmdps_DxxP",
        "outputId": "53c31870-592c-4a7b-8abd-2baa2781b55c"
      },
      "source": [
        "\r\n",
        "import numpy as np\r\n",
        "from flask import Flask, request, jsonify, render_template\r\n",
        "from flask_ngrok import run_with_ngrok\r\n",
        "import pandas as pd\r\n",
        "from __future__ import division, print_function\r\n",
        "# coding=utf-8\r\n",
        "import sys\r\n",
        "import os\r\n",
        "import glob\r\n",
        "import re\r\n",
        "import numpy as np\r\n",
        "\r\n",
        "# Keras\r\n",
        "from keras.applications.imagenet_utils import preprocess_input, decode_predictions\r\n",
        "from keras.models import load_model\r\n",
        "from keras.preprocessing import image\r\n",
        "\r\n",
        "# Flask utils\r\n",
        "from flask import Flask, redirect, url_for, request, render_template\r\n",
        "from werkzeug.utils import secure_filename\r\n",
        "\r\n",
        "\r\n",
        "# Define a flask app\r\n",
        "app = Flask(__name__)\r\n",
        "run_with_ngrok(app)\r\n",
        "from keras.models import load_model\r\n",
        "model = load_model(\"/content/drive/My Drive/Colab Notebooks/Signature verification Vgg19 Model/final/model_vgg19.h5\")\r\n",
        "def model_predict(file_path, model):\r\n",
        "    img = image.load_img(file_path, target_size=(128, 128))\r\n",
        "\r\n",
        "    # Preprocessing the image\r\n",
        "    x = image.img_to_array(img)\r\n",
        "    # x = np.true_divide(x, 255)\r\n",
        "    x = np.expand_dims(x, axis=0)\r\n",
        "\r\n",
        "    # Be careful how your trained model deals with the input\r\n",
        "    # otherwise, it won't make correct prediction!\r\n",
        "    x = preprocess_input(x, mode='caffe')\r\n",
        "    preds = model.predict(x)\r\n",
        "    return preds\r\n",
        "\r\n",
        "\r\n",
        "@app.route('/', methods=['GET'])\r\n",
        "def index():\r\n",
        "    # Main page\r\n",
        "    return render_template('index.html')\r\n",
        "\r\n",
        "\r\n",
        "@app.route('/predict', methods=['GET', 'POST'])\r\n",
        "def upload():\r\n",
        "    if request.method == 'POST':\r\n",
        "        # Get the file from post request\r\n",
        "        f = request.files['file']\r\n",
        "        f.save('uploads/' + secure_filename(f.filename))\r\n",
        "        # Save the file to ./uploads\r\n",
        "        \r\n",
        "        file_path = os.path.join('/content','uploads', secure_filename(f.filename))\r\n",
        "        print(file_path)\r\n",
        "        \r\n",
        "\r\n",
        "        # Make prediction\r\n",
        "        preds = model_predict(file_path, model)\r\n",
        "\r\n",
        "        # Process your result for human\r\n",
        "        # pred_class = preds.argmax(axis=-1)            # Simple argmax\r\n",
        "        if(preds> 0.5):\r\n",
        "            result= 'Genuine'\r\n",
        "        elif(preds< 0.5):\r\n",
        "            result='Forged'\r\n",
        "        return result\r\n",
        "    return None\r\n",
        "\r\n",
        "\r\n",
        "\r\n",
        "app.run()"
      ],
      "execution_count": null,
      "outputs": [
        {
          "output_type": "stream",
          "text": [
            " * Serving Flask app \"__main__\" (lazy loading)\n",
            " * Environment: production\n",
            "\u001b[31m   WARNING: This is a development server. Do not use it in a production deployment.\u001b[0m\n",
            "\u001b[2m   Use a production WSGI server instead.\u001b[0m\n",
            " * Debug mode: off\n"
          ],
          "name": "stdout"
        },
        {
          "output_type": "stream",
          "text": [
            " * Running on http://127.0.0.1:5000/ (Press CTRL+C to quit)\n"
          ],
          "name": "stderr"
        },
        {
          "output_type": "stream",
          "text": [
            " * Running on http://84c69f59f8ca.ngrok.io\n",
            " * Traffic stats available on http://127.0.0.1:4040\n"
          ],
          "name": "stdout"
        },
        {
          "output_type": "stream",
          "text": [
            "127.0.0.1 - - [17/Feb/2021 10:14:04] \"\u001b[37mGET / HTTP/1.1\u001b[0m\" 200 -\n",
            "127.0.0.1 - - [17/Feb/2021 10:17:10] \"\u001b[37mGET / HTTP/1.1\u001b[0m\" 200 -\n",
            "127.0.0.1 - - [17/Feb/2021 10:17:11] \"\u001b[37mGET /static/css/main.css HTTP/1.1\u001b[0m\" 200 -\n",
            "127.0.0.1 - - [17/Feb/2021 10:17:11] \"\u001b[37mGET /static/js/main.js HTTP/1.1\u001b[0m\" 200 -\n",
            "127.0.0.1 - - [17/Feb/2021 10:17:19] \"\u001b[33mGET /favicon.ico HTTP/1.1\u001b[0m\" 404 -\n",
            "127.0.0.1 - - [17/Feb/2021 11:08:54] \"\u001b[37mGET / HTTP/1.1\u001b[0m\" 200 -\n",
            "127.0.0.1 - - [17/Feb/2021 11:08:55] \"\u001b[37mGET /static/css/main.css HTTP/1.1\u001b[0m\" 200 -\n",
            "127.0.0.1 - - [17/Feb/2021 11:08:55] \"\u001b[37mGET /static/js/main.js HTTP/1.1\u001b[0m\" 200 -\n",
            "127.0.0.1 - - [17/Feb/2021 11:08:56] \"\u001b[33mGET /favicon.ico HTTP/1.1\u001b[0m\" 404 -\n"
          ],
          "name": "stderr"
        }
      ]
    }
  ]
}